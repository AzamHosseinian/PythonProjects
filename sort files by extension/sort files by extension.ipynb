{
 "cells": [
  {
   "cell_type": "code",
   "execution_count": null,
   "id": "353bd1c0",
   "metadata": {},
   "outputs": [],
   "source": [
    "import os\n",
    "import glob"
   ]
  },
  {
   "cell_type": "code",
   "execution_count": null,
   "id": "11f7d56a",
   "metadata": {},
   "outputs": [],
   "source": [
    "# Function to create folders based on the provided extensions\n",
    "def create_folders(exts):\n",
    "    # Iterate through each unique extension\n",
    "    for ext in exts:\n",
    "        # Create a folder with the extension name\n",
    "        os.mkdir(f\"folder_{ext}\")\n"
   ]
  },
  {
   "cell_type": "code",
   "execution_count": null,
   "id": "5a6f91b5",
   "metadata": {},
   "outputs": [],
   "source": [
    "# Function to move files into their respective folders based on their extensions\n",
    "def move_files(list_of_files):\n",
    "    # Iterate through each file in the list of files\n",
    "    for file in list_of_files:\n",
    "        # Get the file extension and convert it to lowercase\n",
    "        ext = file.split(\".\")[-1].lower()\n",
    "        # Move the file to the appropriate folder based on its extension\n",
    "        os.rename(file, f\"folder_{ext}/{file}\")\n"
   ]
  },
  {
   "cell_type": "code",
   "execution_count": null,
   "id": "8fcb4459",
   "metadata": {},
   "outputs": [],
   "source": [
    "# Function to get unique file extensions from the list of files\n",
    "def get_unique_exts(list_of_files):\n",
    "    # Initialize an empty set to store unique extensions\n",
    "    exts = set()\n",
    "    # Iterate through each file in the list of files\n",
    "    for file in list_of_files:\n",
    "        # Get the file extension and convert it to lowercase\n",
    "        ext = file.split(\".\")[-1].lower()\n",
    "        # Add the extension to the set of unique extensions\n",
    "        exts.add(ext)\n",
    "    return exts"
   ]
  },
  {
   "cell_type": "code",
   "execution_count": null,
   "id": "3eb1568a",
   "metadata": {},
   "outputs": [],
   "source": [
    "# Get a list of all files in the current directory\n",
    "list_of_files = glob.glob(\"*\")\n",
    "\n",
    "# Get unique extensions from the list of files\n",
    "unique_exts = get_unique_exts(list_of_files)\n",
    "\n",
    "# Create folders for each unique extension\n",
    "create_folders(unique_exts)\n",
    "\n",
    "# Move files into their respective folders based on their extensions\n",
    "move_files(list_of_files)"
   ]
  }
 ],
 "metadata": {
  "kernelspec": {
   "display_name": "Python 3 (ipykernel)",
   "language": "python",
   "name": "python3"
  },
  "language_info": {
   "codemirror_mode": {
    "name": "ipython",
    "version": 3
   },
   "file_extension": ".py",
   "mimetype": "text/x-python",
   "name": "python",
   "nbconvert_exporter": "python",
   "pygments_lexer": "ipython3",
   "version": "3.9.13"
  }
 },
 "nbformat": 4,
 "nbformat_minor": 5
}
