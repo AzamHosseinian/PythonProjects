{
 "cells": [
  {
   "cell_type": "markdown",
   "id": "f2d8108e",
   "metadata": {},
   "source": [
    "## \n",
    "<div class=\"alert alert-info\" style=\"margin-top: 20px\">\n",
    "<font size = 3>\n",
    "<b> Here's a Sudoku solver program that takes input as you described and prints the solved Sudoku grid </b>\n",
    "</font>\n",
    "</div>\n"
   ]
  },
  {
   "cell_type": "code",
   "execution_count": 3,
   "id": "2b0b83de",
   "metadata": {},
   "outputs": [],
   "source": [
    "from ipywidgets import GridBox, IntText, Button, Output\n",
    "from IPython.display import display\n",
    "import numpy as np\n",
    "\n",
    "# Check if the given number is valid for the current position in the grid\n",
    "def is_valid(grid, row, col, num):\n",
    "    for i in range(9):\n",
    "        if grid[row][i] == num or grid[i][col] == num:\n",
    "            return False\n",
    "\n",
    "    start_row, start_col = row - row % 3, col - col % 3\n",
    "    for i in range(3):\n",
    "        for j in range(3):\n",
    "            if grid[i + start_row][j + start_col] == num:\n",
    "                return False\n",
    "\n",
    "    return True\n",
    "\n",
    "# Recursive function to solve the Sudoku grid\n",
    "def solve_sudoku(grid):\n",
    "    row = col = -1\n",
    "    is_empty = True\n",
    "    for i in range(9):\n",
    "        for j in range(9):\n",
    "            if grid[i][j] == 0:\n",
    "                row, col, is_empty = i, j, False\n",
    "                break\n",
    "        if not is_empty:\n",
    "            break\n",
    "\n",
    "    if is_empty:\n",
    "        return True\n",
    "\n",
    "    for num in range(1, 10):\n",
    "        if is_valid(grid, row, col, num):\n",
    "            grid[row][col] = num\n",
    "            if solve_sudoku(grid):\n",
    "                return True\n",
    "            grid[row][col] = 0\n",
    "\n",
    "    return False\n"
   ]
  },
  {
   "cell_type": "code",
   "execution_count": 7,
   "id": "42ff2444",
   "metadata": {},
   "outputs": [
    {
     "data": {
      "application/vnd.jupyter.widget-view+json": {
       "model_id": "0e4fc41494344213a62636f33eeb7a88",
       "version_major": 2,
       "version_minor": 0
      },
      "text/plain": [
       "GridBox(children=(IntText(value=0, layout=Layout(width='50px')), IntText(value=0, layout=Layout(width='50px'))…"
      ]
     },
     "metadata": {},
     "output_type": "display_data"
    }
   ],
   "source": [
    "# Create 81 IntText widgets for the 9x9 Sudoku grid input\n",
    "grid_inputs = [IntText(min=0, max=9, value=0, layout={'width': '50px'}) for _ in range(81)]\n",
    "\n",
    "\n",
    "# Display the IntText widgets in a 9x9 grid layout using GridBox\n",
    "grid_box = GridBox(grid_inputs, layout={'grid_template_columns': 'repeat(9, 50px)'})\n",
    "display(grid_box)"
   ]
  },
  {
   "cell_type": "code",
   "execution_count": 6,
   "id": "dcc580fa",
   "metadata": {},
   "outputs": [
    {
     "data": {
      "application/vnd.jupyter.widget-view+json": {
       "model_id": "50bf9c2bc02640c99b0d1d7892a0d420",
       "version_major": 2,
       "version_minor": 0
      },
      "text/plain": [
       "Button(description='Solve', style=ButtonStyle())"
      ]
     },
     "metadata": {},
     "output_type": "display_data"
    },
    {
     "data": {
      "application/vnd.jupyter.widget-view+json": {
       "model_id": "c0a046bfab484bd6a6538e3275c7e773",
       "version_major": 2,
       "version_minor": 0
      },
      "text/plain": [
       "Output()"
      ]
     },
     "metadata": {},
     "output_type": "display_data"
    }
   ],
   "source": [
    "def on_solve_button_click(b):\n",
    "    grid_values = [widget.value for widget in grid_inputs]\n",
    "    sudoku_grid = np.array(grid_values).reshape((9, 9)).tolist()\n",
    "    \n",
    "    if solve_sudoku(sudoku_grid):\n",
    "        with output:\n",
    "            output.clear_output()\n",
    "            for row in sudoku_grid:\n",
    "                print(row)\n",
    "    else:\n",
    "        with output:\n",
    "            output.clear_output()\n",
    "            print(\"No solution exists.\")\n",
    "\n",
    "solve_button = Button(description=\"Solve\")\n",
    "solve_button.on_click(on_solve_button_click)\n",
    "output = Output()\n",
    "\n",
    "display(solve_button)\n",
    "display(output)\n"
   ]
  },
  {
   "cell_type": "code",
   "execution_count": 9,
   "id": "06fd5b23",
   "metadata": {},
   "outputs": [
    {
     "data": {
      "application/vnd.jupyter.widget-view+json": {
       "model_id": "f0a11a221df84223a8c0030b19edd612",
       "version_major": 2,
       "version_minor": 0
      },
      "text/plain": [
       "Button(description='Solve', style=ButtonStyle())"
      ]
     },
     "metadata": {},
     "output_type": "display_data"
    },
    {
     "data": {
      "application/vnd.jupyter.widget-view+json": {
       "model_id": "7a7798f9c9ac4c828aba5541eb4bcd34",
       "version_major": 2,
       "version_minor": 0
      },
      "text/plain": [
       "Output()"
      ]
     },
     "metadata": {},
     "output_type": "display_data"
    }
   ],
   "source": [
    "# Function to be called when the \"Solve\" button is clicked\n",
    "def on_solve_button_click(b):\n",
    "    \n",
    "    \n",
    "    # Get the Sudoku grid values from the input widgets\n",
    "    grid_values = [widget.value for widget in grid_inputs]\n",
    "    \n",
    "    # Convert the list of grid values into a 9x9 nested list\n",
    "    sudoku_grid = np.array(grid_values).reshape((9, 9)).tolist()\n",
    "    \n",
    "    # Solve the Sudoku grid and display the solution in the output widget\n",
    "    if solve_sudoku(sudoku_grid):\n",
    "        with output:\n",
    "            output.clear_output()\n",
    "            for row in sudoku_grid:\n",
    "                print(row)\n",
    "    else:\n",
    "        with output:\n",
    "            output.clear_output()\n",
    "            print(\"No solution exists.\")\n",
    "\n",
    "\n",
    "            \n",
    "# Create a \"Solve\" button and assign the on_solve_button_click function as its click event handler\n",
    "solve_button = Button(description=\"Solve\")\n",
    "solve_button.on_click(on_solve_button_click)\n",
    "\n",
    "\n",
    "# Create an output widget to display the solved Sudoku grid\n",
    "output = Output()\n",
    "\n",
    "\n",
    "# Display the \"Solve\" button and the output widget\n",
    "display(solve_button)\n",
    "display(output)\n"
   ]
  }
 ],
 "metadata": {
  "kernelspec": {
   "display_name": "Python 3 (ipykernel)",
   "language": "python",
   "name": "python3"
  },
  "language_info": {
   "codemirror_mode": {
    "name": "ipython",
    "version": 3
   },
   "file_extension": ".py",
   "mimetype": "text/x-python",
   "name": "python",
   "nbconvert_exporter": "python",
   "pygments_lexer": "ipython3",
   "version": "3.9.13"
  }
 },
 "nbformat": 4,
 "nbformat_minor": 5
}
